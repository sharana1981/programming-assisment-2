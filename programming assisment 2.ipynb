{
 "cells": [
  {
   "cell_type": "raw",
   "id": "ba2137ce",
   "metadata": {},
   "source": [
    "1)Write a Python program to convert kilometers to miles?"
   ]
  },
  {
   "cell_type": "code",
   "execution_count": 1,
   "id": "7c4a945c",
   "metadata": {},
   "outputs": [
    {
     "name": "stdout",
     "output_type": "stream",
     "text": [
      "enter the number of kilometers6\n",
      "3.7282271399999996 miles\n"
     ]
    }
   ],
   "source": [
    "n=float(input(\"enter the number of kilometers\"))\n",
    "print(n*0.62137119,\"miles\")"
   ]
  },
  {
   "cell_type": "code",
   "execution_count": null,
   "id": "64f3d044",
   "metadata": {},
   "outputs": [],
   "source": [
    "2)Write a Python program to convert Celsius to Fahrenheit?"
   ]
  },
  {
   "cell_type": "code",
   "execution_count": 3,
   "id": "a38249d8",
   "metadata": {},
   "outputs": [
    {
     "name": "stdout",
     "output_type": "stream",
     "text": [
      "enter the celcius temperature30\n",
      "86.0 F\n"
     ]
    }
   ],
   "source": [
    "t=float(input(\"enter the celcius temperature\"))\n",
    "temp=t*1.8\n",
    "print(temp+32,\"F\")"
   ]
  },
  {
   "cell_type": "code",
   "execution_count": null,
   "id": "6bf1d584",
   "metadata": {},
   "outputs": [],
   "source": [
    "3)Write a Python program to display calendar?"
   ]
  },
  {
   "cell_type": "code",
   "execution_count": 13,
   "id": "09b97cb6",
   "metadata": {},
   "outputs": [
    {
     "name": "stdout",
     "output_type": "stream",
     "text": [
      "enter month3\n",
      "enter year1883\n",
      "     March 1883\n",
      "Mo Tu We Th Fr Sa Su\n",
      "          1  2  3  4\n",
      " 5  6  7  8  9 10 11\n",
      "12 13 14 15 16 17 18\n",
      "19 20 21 22 23 24 25\n",
      "26 27 28 29 30 31\n",
      "\n"
     ]
    }
   ],
   "source": [
    "import calendar\n",
    "mm=int(input(\"enter month\"))\n",
    "yy=int(input(\"enter year\"))\n",
    "print(calendar.month(yy,mm))"
   ]
  },
  {
   "cell_type": "raw",
   "id": "97ff82b4",
   "metadata": {},
   "source": [
    "4)Write a Python program to solve quadratic equation?"
   ]
  },
  {
   "cell_type": "code",
   "execution_count": 15,
   "id": "ec16a391",
   "metadata": {},
   "outputs": [
    {
     "name": "stdout",
     "output_type": "stream",
     "text": [
      "enter the value of a1\n",
      "enter the value of b5\n",
      "enter the value of c6\n",
      "-2.0\n"
     ]
    }
   ],
   "source": [
    "import math\n",
    "a=float(input(\"enter the value of a\"))\n",
    "b=float(input(\"enter the value of b\"))\n",
    "c=float(input(\"enter the value of c\"))\n",
    "bval=b**2\n",
    "k=4*a*c\n",
    "p=bval-k\n",
    "s=math.sqrt(p)\n",
    "q=-b+(s)\n",
    "r=2*a\n",
    "print(q/r)"
   ]
  },
  {
   "cell_type": "raw",
   "id": "d685a90c",
   "metadata": {},
   "source": [
    "5)Write a Python program to swap two variables without temp variable?"
   ]
  },
  {
   "cell_type": "code",
   "execution_count": 17,
   "id": "b965ecc8",
   "metadata": {},
   "outputs": [
    {
     "name": "stdout",
     "output_type": "stream",
     "text": [
      "enter the number4\n",
      "enter the number5\n",
      "numbers before swap 4.0 5.0\n",
      "numbers after swap 5.0 4.0\n"
     ]
    }
   ],
   "source": [
    "a=float(input(\"enter the number\"))\n",
    "b=float(input(\"enter the number\"))\n",
    "print(\"numbers before swap\",a,b)\n",
    "a,b=b,a\n",
    "print(\"numbers after swap\",a,b)"
   ]
  },
  {
   "cell_type": "code",
   "execution_count": null,
   "id": "22d475fd",
   "metadata": {},
   "outputs": [],
   "source": []
  }
 ],
 "metadata": {
  "kernelspec": {
   "display_name": "Python 3 (ipykernel)",
   "language": "python",
   "name": "python3"
  },
  "language_info": {
   "codemirror_mode": {
    "name": "ipython",
    "version": 3
   },
   "file_extension": ".py",
   "mimetype": "text/x-python",
   "name": "python",
   "nbconvert_exporter": "python",
   "pygments_lexer": "ipython3",
   "version": "3.9.12"
  }
 },
 "nbformat": 4,
 "nbformat_minor": 5
}
